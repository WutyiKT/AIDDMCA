{
  "nbformat": 4,
  "nbformat_minor": 0,
  "metadata": {
    "colab": {
      "provenance": []
    },
    "kernelspec": {
      "name": "python3",
      "display_name": "Python 3"
    },
    "language_info": {
      "name": "python"
    }
  },
  "cells": [
    {
      "cell_type": "code",
      "execution_count": 2,
      "metadata": {
        "colab": {
          "base_uri": "https://localhost:8080/"
        },
        "id": "9GnH0lIlyp2R",
        "outputId": "0a953192-595a-40c0-f055-772fb8207c26"
      },
      "outputs": [
        {
          "output_type": "stream",
          "name": "stdout",
          "text": [
            "Collecting pulp\n",
            "  Downloading PuLP-2.9.0-py3-none-any.whl (17.7 MB)\n",
            "\u001b[2K     \u001b[90m━━━━━━━━━━━━━━━━━━━━━━━━━━━━━━━━━━━━━━━━\u001b[0m \u001b[32m17.7/17.7 MB\u001b[0m \u001b[31m35.3 MB/s\u001b[0m eta \u001b[36m0:00:00\u001b[0m\n",
            "\u001b[?25hInstalling collected packages: pulp\n",
            "Successfully installed pulp-2.9.0\n"
          ]
        }
      ],
      "source": [
        "!pip install pulp"
      ]
    },
    {
      "cell_type": "code",
      "source": [
        "#1 import library after installing\n",
        "import pulp\n",
        "\n",
        "#2 define the problem\n",
        "problem = pulp.LpProblem(\"Production_Scheduling\", pulp.LpMaximize)\n",
        "\n",
        "#3 define decision variables\n",
        "n1 = pulp.LpVariable('n1', lowBound=0, cat='Integer')\n",
        "n2 = pulp.LpVariable('n2', lowBound=0, cat='Integer')\n",
        "n3 = pulp.LpVariable('n3', lowBound=0, cat='Integer')\n",
        "n4 = pulp.LpVariable('n4', lowBound=0, cat='Integer')\n",
        "n5 = pulp.LpVariable('n5', lowBound=0, cat='Integer')\n",
        "\n",
        "#4 define the objective function\n",
        "problem += 5*n1 + 4*n2 + 6*n3 + 7*n4 + 8*n5, \"Total Profit\"\n",
        "\n",
        "#5 define the constraints\n",
        "problem += 2*n1 + 3*n2 + 1*n3 + 4*n4 + 5*n5 <= 100, \"Labor Constraint\"\n",
        "problem += 3*n1 + 2*n2 + 4*n3 + 1*n4 + 3*n5 <= 80, \"Machine Time Constraint\"\n",
        "problem += 4*n1 + 1*n2 + 3*n3 + 2*n4 + 2*n5 <= 70, \"Raw Materials Constraint\"\n",
        "problem += n1 <= 20, \"Production(P1) Constraint\"\n",
        "problem += n2 + n3 >= 10, \"Combined Production(P2 and P3) Constraint\"\n",
        "problem += n4 >= 5, \"Production(P4 should be at least 5) Constraint\"\n",
        "\n",
        "#6 solve the problem with default solver CBC\n",
        "status = problem.solve()\n",
        "\n",
        "#7 Interpret and print the results\n",
        "print(f\"Status is {pulp.LpStatus[problem.status]}.\")\n",
        "print(f\"Optimal production of P1 is {n1.varValue} units\")\n",
        "print(f\"Optimal production of P2 is {n2.varValue} units\")\n",
        "print(f\"Optimal production of P3 is {n3.varValue} units\")\n",
        "print(f\"Optimal production of P4 is {n4.varValue} units\")\n",
        "print(f\"Optimal production of P5 is {n5.varValue} units\")\n",
        "print(f\"Therefore, the Total Profit of Production is ${pulp.value(problem.objective)}\")\n"
      ],
      "metadata": {
        "colab": {
          "base_uri": "https://localhost:8080/"
        },
        "id": "AXSwn4Lojzjc",
        "outputId": "8026ef5e-7a82-4200-c85b-219f380bc5ad"
      },
      "execution_count": 12,
      "outputs": [
        {
          "output_type": "stream",
          "name": "stdout",
          "text": [
            "Status is Optimal.\n",
            "Optimal production of P1 is 0.0 units\n",
            "Optimal production of P2 is 0.0 units\n",
            "Optimal production of P3 is 10.0 units\n",
            "Optimal production of P4 is 10.0 units\n",
            "Optimal production of P5 is 10.0 units\n",
            "Therefore, the Total Profit of Production is $210.0\n"
          ]
        }
      ]
    }
  ]
}